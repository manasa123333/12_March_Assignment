{
 "cells": [
  {
   "cell_type": "markdown",
   "id": "da8432b3-4a7a-4ec1-b205-84b0ffda8e7a",
   "metadata": {},
   "source": [
    "Q1. Calculate the 95% confidence interval for a sample of data with a mean of 50 and a standard deviation\n",
    "of 5 using Python. Interpret the results."
   ]
  },
  {
   "cell_type": "code",
   "execution_count": 6,
   "id": "855e2a5b-55a4-46c3-a0da-604780aececf",
   "metadata": {},
   "outputs": [
    {
     "name": "stdout",
     "output_type": "stream",
     "text": [
      "We are 95% confident that the population mean lies between  (49.02, 50.98)\n"
     ]
    }
   ],
   "source": [
    "##Confidence Interval = Mean ± (Z * (Standard_Deviation / √Sample_Size))\n",
    "import math\n",
    "Mean = 50\n",
    "Standard_Deviation = 5\n",
    "## for 95% confidence interval z value = 1.96\n",
    "Z = 1.96\n",
    "Sample_size = 100\n",
    "higher_confidence_interval = Mean + (Z * (Standard_Deviation / math.sqrt(Sample_size)))\n",
    "lower_confidence_interval = Mean - (Z * (Standard_Deviation / math.sqrt(Sample_size)))\n",
    "print(\"We are 95% confident that the population mean lies between \",(lower_confidence_interval,higher_confidence_interval))"
   ]
  },
  {
   "cell_type": "markdown",
   "id": "f0e2a6b9-718d-4380-ad4d-58fd6709ec73",
   "metadata": {},
   "source": [
    "Q2. Conduct a chi-square goodness of fit test to determine if the distribution of colors of M&Ms in a bag\n",
    "matches the expected distribution of 20% blue, 20% orange, 20% green, 10% yellow, 10% red, and 20%\n",
    "brown. Use Python to perform the test with a significance level of 0.05."
   ]
  },
  {
   "cell_type": "code",
   "execution_count": 7,
   "id": "ad0076a7-0caa-4fd1-ba43-e39f8f7d95a4",
   "metadata": {},
   "outputs": [
    {
     "name": "stdout",
     "output_type": "stream",
     "text": [
      "The distribution of colors in the bag matches the expected distribution (fail to reject the null hypothesis).\n",
      "Chi-squared statistic: 0.00\n",
      "P-value: 1.0000\n"
     ]
    }
   ],
   "source": [
    "import numpy as np\n",
    "from scipy.stats import chi2_contingency\n",
    "\n",
    "# Observed frequencies (actual counts of each color)\n",
    "observed_frequencies = np.array([40, 18, 22, 12, 10, 38])\n",
    "\n",
    "# Expected frequencies (expected counts of each color based on the specified distribution)\n",
    "expected_frequencies = np.array([0.2, 0.2, 0.2, 0.1, 0.1, 0.2]) * np.sum(observed_frequencies)\n",
    "\n",
    "# Perform the chi-square goodness of fit test\n",
    "chi2, p, dof, expected = chi2_contingency([observed_frequencies])\n",
    "\n",
    "# Check if the p-value is less than the significance level (alpha)\n",
    "alpha = 0.05\n",
    "\n",
    "if p < alpha:\n",
    "    print(\"The distribution of colors in the bag does not match the expected distribution (reject the null hypothesis).\")\n",
    "else:\n",
    "    print(\"The distribution of colors in the bag matches the expected distribution (fail to reject the null hypothesis).\")\n",
    "\n",
    "print(f\"Chi-squared statistic: {chi2:.2f}\")\n",
    "print(f\"P-value: {p:.4f}\")\n"
   ]
  },
  {
   "cell_type": "markdown",
   "id": "0f21fab6-654d-463f-8629-efce60c8cc72",
   "metadata": {},
   "source": [
    "Q3. Use Python to calculate the chi-square statistic and p-value for a contingency table with the following data:\n",
    "\n",
    "             |     Group A               |                   Group B    |\n",
    "    Outcome 1|      20                   |                     15       |\n",
    "    outcome 2 |     10                   |                      25      |\n",
    "    Outcome 3 |    15                   |                      20       |"
   ]
  },
  {
   "cell_type": "markdown",
   "id": "c81c1f40-4c5d-4cf4-9b53-5edd7379b804",
   "metadata": {},
   "source": [
    "Interpret the results of the test."
   ]
  },
  {
   "cell_type": "code",
   "execution_count": 8,
   "id": "41f6f224-8ce9-4d2f-a58a-3a5b06ace8bc",
   "metadata": {},
   "outputs": [
    {
     "name": "stdout",
     "output_type": "stream",
     "text": [
      "Chi-squared statistic: 5.833333333333334\n",
      "P-value: 0.05411376622282158\n"
     ]
    }
   ],
   "source": [
    "import numpy as np\n",
    "from scipy.stats import chi2_contingency\n",
    "\n",
    "# Create a 2D NumPy array representing the contingency table\n",
    "observed_data = np.array([[20, 15], [10, 25], [15, 20]])\n",
    "\n",
    "# Perform the chi-square test\n",
    "chi2, p, dof, expected = chi2_contingency(observed_data)\n",
    "\n",
    "print(\"Chi-squared statistic:\", chi2)\n",
    "print(\"P-value:\", p)"
   ]
  },
  {
   "cell_type": "markdown",
   "id": "285beb7b-5253-4069-aa80-42c6c500588d",
   "metadata": {},
   "source": [
    "Q4. A study of the prevalence of smoking in a population of 500 individuals found that 60 individuals\n",
    "smoked. Use Python to calculate the 95% confidence interval for the true proportion of individuals in the\n",
    "population who smoke."
   ]
  },
  {
   "cell_type": "code",
   "execution_count": 10,
   "id": "87b4bf0e-5fd9-4425-ab32-585767e330fb",
   "metadata": {},
   "outputs": [
    {
     "name": "stdout",
     "output_type": "stream",
     "text": [
      "95% confidence interval: (0.09151638887130707, 0.1484836111286929)\n"
     ]
    }
   ],
   "source": [
    "import numpy as np\n",
    "import scipy.stats as stats\n",
    "\n",
    "# Calculate the sample proportion\n",
    "p_hat = 60 / 500\n",
    "\n",
    "# Calculate the standard error\n",
    "se = np.sqrt(p_hat * (1 - p_hat) / 500)\n",
    "\n",
    "# Calculate the 95% confidence interval\n",
    "z = stats.norm.ppf(0.975)\n",
    "\n",
    "upper_ci = p_hat + (z * se)\n",
    "lower_ci = p_hat - (z * se)\n",
    "# Print the results\n",
    "print(\"95% confidence interval:\", (lower_ci,upper_ci))\n"
   ]
  },
  {
   "cell_type": "markdown",
   "id": "228202fd-3eef-4147-93ac-81009a928869",
   "metadata": {},
   "source": [
    "Q5. Calculate the 90% confidence interval for a sample of data with a mean of 75 and a standard deviation\n",
    "of 12 using Python. Interpret the results."
   ]
  },
  {
   "cell_type": "code",
   "execution_count": 11,
   "id": "3cfc163e-304e-45b9-8eb9-d2ddcd255c9c",
   "metadata": {},
   "outputs": [
    {
     "name": "stdout",
     "output_type": "stream",
     "text": [
      "We are 90% confident that the population mean lies between  (72.9612, 77.0388)\n"
     ]
    }
   ],
   "source": [
    "##Confidence Interval = Mean ± (Z * (Standard_Deviation / √Sample_Size))\n",
    "import math\n",
    "Mean = 75\n",
    "Standard_Deviation = 12\n",
    "## for 90% confidence interval z value = 1.699\n",
    "Z = 1.699\n",
    "Sample_size = 100\n",
    "higher_confidence_interval = Mean + (Z * (Standard_Deviation / math.sqrt(Sample_size)))\n",
    "lower_confidence_interval = Mean - (Z * (Standard_Deviation / math.sqrt(Sample_size)))\n",
    "print(\"We are 90% confident that the population mean lies between \",(lower_confidence_interval,higher_confidence_interval))"
   ]
  },
  {
   "cell_type": "markdown",
   "id": "6617d108-ea8c-4106-8a86-87aee0a53ebc",
   "metadata": {},
   "source": [
    "Q6. Use Python to plot the chi-square distribution with 10 degrees of freedom. Label the axes and shade the\n",
    "area corresponding to a chi-square statistic of 15."
   ]
  },
  {
   "cell_type": "code",
   "execution_count": 12,
   "id": "ca33d482-fbed-426f-8495-d22ccf9be33e",
   "metadata": {},
   "outputs": [
    {
     "data": {
      "image/png": "[encoded data removed]",
      "text/plain": [
       "<Figure size 640x480 with 1 Axes>"
      ]
     },
     "metadata": {},
     "output_type": "display_data"
    }
   ],
   "source": [
    "import numpy as np\n",
    "import matplotlib.pyplot as plt\n",
    "from scipy.stats import chi2\n",
    "\n",
    "# Generate chi-square distribution with 10 degrees of freedom\n",
    "x = np.linspace(0, 30, 1000)\n",
    "pdf = chi2.pdf(x, df=10)\n",
    "\n",
    "# Shade the area corresponding to a chi-square statistic of 15\n",
    "plt.fill_between(x, pdf, where=x >= 15, color='gray', alpha=0.5)\n",
    "\n",
    "# Label the axes and plot the distribution\n",
    "plt.xlabel('Chi-square statistic')\n",
    "plt.ylabel('Probability density')\n",
    "plt.title('Chi-square distribution with 10 degrees of freedom')\n",
    "plt.xlim(0, 30)\n",
    "plt.plot(x, pdf)\n",
    "plt.show()\n"
   ]
  },
  {
   "cell_type": "markdown",
   "id": "1296ddb2-3005-48aa-976b-dbdc2b8e4bcf",
   "metadata": {},
   "source": [
    "Q7. A random sample of 1000 people was asked if they preferred Coke or Pepsi. Of the sample, 520\n",
    "preferred Coke. Calculate a 99% confidence interval for the true proportion of people in the population who\n",
    "prefer Coke."
   ]
  },
  {
   "cell_type": "markdown",
   "id": "1deb75d1-87d6-4485-8656-cc8231652171",
   "metadata": {},
   "source": [
    "calculate proportions : p = 520/1000 = 0.52                                           \n",
    "for 99% Confidence interval z value is 2.576 . z = 2.576.                                                          \n",
    "sample size,n= 1000                                                                      \n",
    "upper_CI = p + z *sqrt((p-hat * (1 - p-hat)) / n)                                                            \n",
    "= 0.52 + sqrt((0.52*(1-0.52))/1000)                                                                           \n",
    "= 0.52 + sqrt(0.0004992)                                                              \n",
    "= 0.52 + 0.022                                                                  \n",
    "= 0.5222                                                        \n",
    "lower_CI = p - z *sqrt((p-hat * (1 - p-hat)) / n)                                               \n",
    "= 0.52 - sqrt((0.52*(1-0.52))/1000)                                                         \n",
    "= 0.52 - sqrt(0.0004992)                                                             \n",
    "= 0.52 - 0.022                                                                 \n",
    "= 0.498                                                                                                  \n",
    "we are 99% confident that the true proportion of people in the population who prefer Coke are between (0.498,0.522)."
   ]
  },
  {
   "cell_type": "markdown",
   "id": "d209158e-df8e-4e6f-8df6-907cc76c3237",
   "metadata": {},
   "source": [
    "Q8. A researcher hypothesizes that a coin is biased towards tails. They flip the coin 100 times and observe\n",
    "45 tails. Conduct a chi-square goodness of fit test to determine if the observed frequencies match the\n",
    "expected frequencies of a fair coin. Use a significance level of 0.05."
   ]
  },
  {
   "cell_type": "markdown",
   "id": "9b838d00-466b-4e27-aa83-9347e3424c81",
   "metadata": {},
   "source": [
    "Null hypothesis (H0): The coin is fair.                                                          \n",
    "Alternative hypothesis (Ha): The coin is biased towards tails.                                              \n",
    "\n",
    "                            |        tails             |           heads      |                               \n",
    "     observed frequency     |          45              |            55       |                                     \n",
    "     expected frequency     |          50              |            50       |                                    \n",
    "\n",
    "alpha = 0.05                                     \n",
    "Degree of freedom = k-1 = 2-1 = 1                                                   \n",
    "critical value = 3.841                                                             \n",
    "Decision Boundary :                                                                                            \n",
    "If chi square is greater than 3.841 we reject null hypothesis, else we fail to reject null hypothesis.                  \n",
    "\n",
    "Calculation of chi-square test statistic                                                                \n",
    "\n",
    "χ2 = Σ ((O - E)2 / E)                                                                  \n",
    "   = (5^2/50) + (5^2/50)                                                              \n",
    "   = 1                                                                   \n",
    "   \n",
    "Since χ² (1.0) is less than the critical value (3.841), you fail to reject the null hypothesis. This means there is no strong evidence to suggest that the coin is biased towards tails based on the observed data."
   ]
  },
  {
   "cell_type": "markdown",
   "id": "9f2d69cb-3269-47fb-95ae-768463cf3333",
   "metadata": {},
   "source": [
    "Q9. A study was conducted to determine if there is an association between smoking status (smoker or\n",
    "non-smoker) and lung cancer diagnosis (yes or no). The results are shown in the contingency table below.\n",
    "Conduct a chi-square test for independence to determine if there is a significant association between\n",
    "smoking status and lung cancer diagnosis.\n",
    "\n",
    "                        |   lung Cancer = Yes    |    Lung cancer = No    |\n",
    "            smoker      |    60                  |         140            |\n",
    "            Non-smoker  |    30                  |         170            |"
   ]
  },
  {
   "cell_type": "markdown",
   "id": "cffe6c96-1ac6-4606-b722-ce9568b90015",
   "metadata": {},
   "source": [
    "Use a significance level of 0.05."
   ]
  },
  {
   "cell_type": "markdown",
   "id": "8d103d70-ca3c-4a43-8c21-38d34f64788b",
   "metadata": {},
   "source": [
    "Null Hypothesis (H0): There is no significant association between smoking status and lung cancer diagnosis.            \n",
    "Alternative Hypothesis (H1): There is a significant association between smoking status and lung cancer diagnosis.       \n",
    "alpha = 0.05                                 \n",
    "degrees of freedom :                                                                                    \n",
    "he degrees of freedom (df) for a chi-square test of independence is calculated as (Number of Rows - 1) * (Number of Columns - 1).                                             \n",
    "In this case, df = 1.                                                                  \n",
    "critical value = 3.841                                                                    \n",
    "Decision Boundary :                                                                                                 \n",
    "If chi square is greater than 3.841 we reject null hypothesis, else we fail to reject null hypothesis.                 \n",
    "To calculate expected frequencies, you can use the formula:                                                     \n",
    "\n",
    "Expected Frequency = (Row Total * Column Total) / Grand Total                                                       \n",
    "\n",
    "Grand Total = 60 + 140 + 30 + 170 = 400                                                               \n",
    "Calculate expected frequencies for each cell:                                                               \n",
    "\n",
    "Expected (Smoker, Yes) = (90 * 200) / 400 = 45                                       \n",
    "Expected (Smoker, No) = (310 * 200) / 400 = 155                                                          \n",
    "Expected (Non-smoker, Yes) = (90 * 200) / 400 = 45                                                                  \n",
    "Expected (Non-smoker, No) = (310 * 200) / 400 = 155                                                              \n",
    "\n",
    "The chi-square statistic is calculated using the formula:                                                     \n",
    "\n",
    "χ² = Σ [(Observed - Expected)² / Expected]                                                         \n",
    "\n",
    "Calculate χ² for each cell and sum them up:                                                           \n",
    "\n",
    "χ² = [(60 - 45)² / 45] + [(140 - 155)² / 155] + [(30 - 45)² / 45] + [(170 - 155)² / 155]                             \n",
    "= 5 + 1.45 + 5 + 1.45                                                                    \n",
    "= 12.9                                                                          \n",
    "\n",
    "Since χ² is greater than the critical value (3.841), we reject the null hypothesis.There is a significant association between smoking status and lung cancer diagnosis."
   ]
  },
  {
   "cell_type": "markdown",
   "id": "90a8ade7-e03f-429d-b967-8202c4b0bf14",
   "metadata": {},
   "source": [
    "Q10. A study was conducted to determine if the proportion of people who prefer milk chocolate, dark\n",
    "chocolate, or white chocolate is different in the U.S. versus the U.K. A random sample of 500 people from\n",
    "the U.S. and a random sample of 500 people from the U.K. were surveyed. The results are shown in the\n",
    "contingency table below. Conduct a chi-square test for independence to determine if there is a significant\n",
    "association between chocolate preference and country of origin.\n",
    "\n",
    "                         |  Milk Chocolate     |   Dark chocolate    |  white Chocolate   |\n",
    "            U.S.(n=500)  |      200            |       150           |      150          |\n",
    "            U.K.(n=500)  |      225            |       175           |      100         |"
   ]
  },
  {
   "cell_type": "markdown",
   "id": "bdf1f389-0f85-4b49-baf7-a67fc2bda2a2",
   "metadata": {},
   "source": [
    "Use a significance level of 0.01."
   ]
  },
  {
   "cell_type": "markdown",
   "id": "44fdfafd-9619-43be-88da-2cad9993ca38",
   "metadata": {},
   "source": [
    "Null Hypothesis (H0): There is no significant association between chocolate preference and country of origin.           \n",
    "Alternative Hypothesis (H1): There is a significant association between chocolate preference and country of origin.      \n",
    "Choose a significance level (α), which is set at 0.01 (1%).                                             \n",
    "The degrees of freedom (df) for a chi-square test of independence is calculated as (Number of Rows - 1) * (Number of Columns - 1). In this case, df = (2 - 1) * (3 - 1) = 2.                                     \n",
    "critical value = 9.21                                                       \n",
    "Calculate expected frequencies for each cell:                                         \n",
    "\n",
    "Expected (U.S., Milk Chocolate) = (500 * 425) / 1000 = 212.5                                            \n",
    "Expected (U.S., Dark Chocolate) = (500 * 325) / 1000 = 162.5                                                 \n",
    "Expected (U.S., White Chocolate) = (500 * 250) / 1300 = 125                                                     \n",
    "Expected (U.K., Milk Chocolate) = (500 * 425) / 1000 = 212.5                                                    \n",
    "Expected (U.K., Dark Chocolate) = (500 * 325) / 1300 = 162.5                                                        \n",
    "Expected (U.K., White Chocolate) = (500 * 200) / 1300 = 125                                                         \n",
    "\n",
    "The chi-square statistic is calculated using the formula:                                                        \n",
    "\n",
    "χ² = Σ [(Observed - Expected)² / Expected]                                                        \n",
    "\n",
    "Calculate χ² for each cell and sum them up:                                                              \n",
    "\n",
    " χ² = [(200 - 212.5)² / 212.5] + [(150 - 162.5)² / 162.5] + [(150 - 125)² / 125] + [(225 -212.5)² / 212.5] + [(175 - 162.5)² / 162.5] + [(100 - 125)² / 125                                                   \n",
    "    = 0.73 + 0.96 + 5 + 0.73 + 0.96 + 5                 \n",
    "    = 13.38\n",
    "    \n",
    "Since χ² is greater than the critical value (3.841), we reject the null hypothesis.There is a significant association between chocolate preference and country of origin"
   ]
  },
  {
   "cell_type": "markdown",
   "id": "6e8b00ea-29e6-4c6a-a7e4-6eb3796d5fa0",
   "metadata": {},
   "source": [
    "Q11. A random sample of 30 people was selected from a population with an unknown mean and standard\n",
    "deviation. The sample mean was found to be 72 and the sample standard deviation was found to be 10.\n",
    "Conduct a hypothesis test to determine if the population mean is significantly different from 70. Use a\n",
    "significance level of 0.05."
   ]
  },
  {
   "cell_type": "markdown",
   "id": "7c6b4ce8-efc8-4f03-ad10-8995c6ba41ac",
   "metadata": {},
   "source": [
    "Step 1: Define Hypotheses:\n",
    "\n",
    "Null Hypothesis (H0): The population mean (μ) is equal to 70.\n",
    "Alternative Hypothesis (H1): The population mean (μ) is significantly different from 70.\n",
    "Step 2: Set the Significance Level:\n",
    "\n",
    "Choose a significance level (α), which is typically set at 0.05 (5%).\n",
    "\n",
    "Step 3: Collect and Summarize Data:\n",
    "\n",
    "You have a sample of 30 people with the following information:\n",
    "\n",
    "Sample Mean (x̄) = 72\n",
    "Sample Standard Deviation (s) = 10\n",
    "Sample Size (n) = 30\n",
    "Step 4: Calculate the Test Statistic:\n",
    "\n",
    "The test statistic for a one-sample t-test is calculated as:\n",
    "\n",
    "t = (x̄ - μ) / (s / √n)\n",
    "\n",
    "Where:\n",
    "\n",
    "x̄ is the sample mean (72)\n",
    "μ is the population mean under the null hypothesis (70)\n",
    "s is the sample standard deviation (10)\n",
    "n is the sample size (30)\n",
    "Calculate the test statistic:\n",
    "\n",
    "t = (72 - 70) / (10 / √30) ≈ 1.0954\n",
    "\n",
    "Step 5: Find the Critical Value:\n",
    "\n",
    "You need to find the critical value from a t-distribution table or calculator. The degrees of freedom (df) is n - 1 = 30 - 1 = 29. For a two-tailed test at a 5% significance level (α = 0.05), you can find the critical t-values. The critical t-values are approximately -2.045 and 2.045.\n",
    "\n",
    "Step 6: Make a Decision:\n",
    "\n",
    "If the absolute value of the test statistic is greater than the critical t-value, you reject the null hypothesis.\n",
    "If the absolute value of the test statistic is less than or equal to the critical t-value, you fail to reject the null hypothesis.\n",
    "In this case, |1.0954| is less than 2.045, so you fail to reject the null hypothesis.\n",
    "\n",
    "Step 7: Draw a Conclusion:\n",
    "\n",
    "Based on the hypothesis test, there is not enough evidence to conclude that the population mean is significantly different from 70 at the 0.05 significance level."
   ]
  }
 ],
 "metadata": {
  "kernelspec": {
   "display_name": "Python 3 (ipykernel)",
   "language": "python",
   "name": "python3"
  },
  "language_info": {
   "codemirror_mode": {
    "name": "ipython",
    "version": 3
   },
   "file_extension": ".py",
   "mimetype": "text/x-python",
   "name": "python",
   "nbconvert_exporter": "python",
   "pygments_lexer": "ipython3",
   "version": "3.10.8"
  }
 },
 "nbformat": 4,
 "nbformat_minor": 5
}
